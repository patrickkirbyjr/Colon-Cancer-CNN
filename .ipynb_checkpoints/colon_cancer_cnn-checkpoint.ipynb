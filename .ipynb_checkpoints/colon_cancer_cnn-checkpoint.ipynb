{
 "cells": [
  {
   "cell_type": "markdown",
   "id": "b14082ec-514a-4887-8450-b00dda70839e",
   "metadata": {},
   "source": [
    "# Detecting Cancer Using Machine Learning\n",
    "Description"
   ]
  },
  {
   "cell_type": "markdown",
   "id": "f38f0f75-284e-4251-bed7-a6c730ec1fe6",
   "metadata": {},
   "source": [
    "### Notebook Overview\n",
    "Background Information: \n",
    "\n",
    "Goal: \n",
    "\n",
    "Input: \n",
    "\n",
    "Output: \n",
    "\n",
    "Metric: "
   ]
  },
  {
   "cell_type": "markdown",
   "id": "c5a5ad2e-ceeb-43c0-897e-af2623d90ede",
   "metadata": {},
   "source": [
    "### Project Configuration"
   ]
  },
  {
   "cell_type": "code",
   "execution_count": 1,
   "id": "2fc5702f-20bc-42e8-9ade-cbc20c07da10",
   "metadata": {},
   "outputs": [],
   "source": [
    "# import libraries\n",
    "import os\n",
    "from tensorflow.keras.preprocessing import image\n",
    "import matplotlib.pyplot as plt\n",
    "\n",
    "# reproducibility\n"
   ]
  },
  {
   "cell_type": "markdown",
   "id": "374cb1b0-c241-4aa4-a9f6-1af7283e0969",
   "metadata": {},
   "source": [
    "### Data Loading"
   ]
  },
  {
   "cell_type": "code",
   "execution_count": 7,
   "id": "6d37be5d-34ff-4fff-8717-196dfa756887",
   "metadata": {},
   "outputs": [],
   "source": [
    "# load data from file\n",
    "\n",
    "def load_images_from_path(path, label):\n",
    "    images, labels = [], []\n",
    "\n",
    "    for file in os.listdir(path):\n",
    "        img = image.load_image(os.path.join(path, file),\n",
    "                               target_size=(224, 224, 3))\n",
    "        images.append(image.img_to_array(img))\n",
    "        labels.append((label))\n",
    "\n",
    "    return images, labels"
   ]
  },
  {
   "cell_type": "code",
   "execution_count": 8,
   "id": "a8075914-e3ea-4ac0-86dc-0037fbe65ed0",
   "metadata": {},
   "outputs": [],
   "source": [
    "# show images\n",
    "\n",
    "def show_images(images):\n",
    "    fig, axes = plt.subplots(1, 8, figsize=(20, 20),\n",
    "                             subplot_kw={'xticks': [],\n",
    "                                         'yticks': []})\n",
    "    \n",
    "    for i, ax in enumerate(axes.flat):\n",
    "        ax.imshow(images[i] / 255)"
   ]
  },
  {
   "cell_type": "code",
   "execution_count": 9,
   "id": "d6891e59-dee5-4896-a2e1-dd6914ce7531",
   "metadata": {},
   "outputs": [],
   "source": [
    "# prepare for training/testing\n",
    "\n",
    "x_train, y_train, x_test, y_test = [], [], [], []"
   ]
  },
  {
   "cell_type": "code",
   "execution_count": 11,
   "id": "7dced4fa-9938-4927-8848-875c93cf2148",
   "metadata": {},
   "outputs": [
    {
     "ename": "FileNotFoundError",
     "evalue": "[WinError 3] The system cannot find the path specified: 'Cancer Detector/data/raw/colon_image_sets/colon_aca'",
     "output_type": "error",
     "traceback": [
      "\u001b[1;31m---------------------------------------------------------------------------\u001b[0m",
      "\u001b[1;31mFileNotFoundError\u001b[0m                         Traceback (most recent call last)",
      "Cell \u001b[1;32mIn[11], line 3\u001b[0m\n\u001b[0;32m      1\u001b[0m \u001b[38;5;66;03m# load images\u001b[39;00m\n\u001b[1;32m----> 3\u001b[0m images, labels \u001b[38;5;241m=\u001b[39m load_images_from_path(\u001b[38;5;124m'\u001b[39m\u001b[38;5;124mCancer Detector/data/raw/colon_image_sets/colon_aca\u001b[39m\u001b[38;5;124m'\u001b[39m, \u001b[38;5;241m0\u001b[39m)\n",
      "Cell \u001b[1;32mIn[7], line 6\u001b[0m, in \u001b[0;36mload_images_from_path\u001b[1;34m(path, label)\u001b[0m\n\u001b[0;32m      3\u001b[0m \u001b[38;5;28;01mdef\u001b[39;00m \u001b[38;5;21mload_images_from_path\u001b[39m(path, label):\n\u001b[0;32m      4\u001b[0m     images, labels \u001b[38;5;241m=\u001b[39m [], []\n\u001b[1;32m----> 6\u001b[0m     \u001b[38;5;28;01mfor\u001b[39;00m file \u001b[38;5;129;01min\u001b[39;00m os\u001b[38;5;241m.\u001b[39mlistdir(path):\n\u001b[0;32m      7\u001b[0m         img \u001b[38;5;241m=\u001b[39m image\u001b[38;5;241m.\u001b[39mload_image(os\u001b[38;5;241m.\u001b[39mpath\u001b[38;5;241m.\u001b[39mjoin(path, file),\n\u001b[0;32m      8\u001b[0m                                target_size\u001b[38;5;241m=\u001b[39m(\u001b[38;5;241m224\u001b[39m, \u001b[38;5;241m224\u001b[39m, \u001b[38;5;241m3\u001b[39m))\n\u001b[0;32m      9\u001b[0m         images\u001b[38;5;241m.\u001b[39mappend(image\u001b[38;5;241m.\u001b[39mimg_to_array(img))\n",
      "\u001b[1;31mFileNotFoundError\u001b[0m: [WinError 3] The system cannot find the path specified: 'Cancer Detector/data/raw/colon_image_sets/colon_aca'"
     ]
    }
   ],
   "source": [
    "# load images\n",
    "\n",
    "images, labels = load_images_from_path('Cancer Detector/data/raw/colon_image_sets/colon_aca', 0)"
   ]
  },
  {
   "cell_type": "markdown",
   "id": "261c50d7-ea2b-4215-a718-775cbbcd62de",
   "metadata": {},
   "source": [
    "### Data Auditing"
   ]
  },
  {
   "cell_type": "markdown",
   "id": "e9f25d49-a34f-47c5-9a60-5154434de45b",
   "metadata": {},
   "source": [
    "### Data Cleaning"
   ]
  },
  {
   "cell_type": "markdown",
   "id": "e8e15670-60a5-43ff-a5d8-fc85dfa35764",
   "metadata": {},
   "source": [
    "### Exploratory Data Analysis (EDA)"
   ]
  },
  {
   "cell_type": "markdown",
   "id": "17376e57-ed9d-4d26-ab45-d0a867b206eb",
   "metadata": {},
   "source": [
    "### Feature Engineering"
   ]
  },
  {
   "cell_type": "markdown",
   "id": "12e07296-f2a2-4179-b396-71ec64e1cfa8",
   "metadata": {},
   "source": [
    "### Data Splitting"
   ]
  },
  {
   "cell_type": "markdown",
   "id": "352c7f7f-6f96-48ed-87b2-1d100aa9e5ea",
   "metadata": {},
   "source": [
    "### Baseline Modeling"
   ]
  },
  {
   "cell_type": "markdown",
   "id": "71402d89-5858-40a9-920e-acf6de00bc98",
   "metadata": {},
   "source": [
    "### Model Training"
   ]
  },
  {
   "cell_type": "markdown",
   "id": "e554fc64-047d-48a4-8d6b-2877c3bf5d6d",
   "metadata": {},
   "source": [
    "### Model Evaluation"
   ]
  },
  {
   "cell_type": "markdown",
   "id": "af03fca9-dcc7-4290-a414-6f5e027d052d",
   "metadata": {},
   "source": [
    "### Hyperparameter Tuning"
   ]
  },
  {
   "cell_type": "markdown",
   "id": "95aca804-0434-4745-ab7c-2d99a524bcf7",
   "metadata": {},
   "source": [
    "### Model Exporting"
   ]
  },
  {
   "cell_type": "markdown",
   "id": "889498fe-c113-4bcb-b85c-306565b3b670",
   "metadata": {},
   "source": [
    "### Reporting + Next Steps"
   ]
  },
  {
   "cell_type": "code",
   "execution_count": null,
   "id": "0c06c3ac-00cd-4a5b-8667-e0558f3a9ee7",
   "metadata": {},
   "outputs": [],
   "source": []
  }
 ],
 "metadata": {
  "kernelspec": {
   "display_name": "Python [conda env:base] *",
   "language": "python",
   "name": "conda-base-py"
  },
  "language_info": {
   "codemirror_mode": {
    "name": "ipython",
    "version": 3
   },
   "file_extension": ".py",
   "mimetype": "text/x-python",
   "name": "python",
   "nbconvert_exporter": "python",
   "pygments_lexer": "ipython3",
   "version": "3.12.3"
  }
 },
 "nbformat": 4,
 "nbformat_minor": 5
}
